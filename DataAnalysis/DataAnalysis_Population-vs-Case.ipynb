{
 "cells": [
  {
   "cell_type": "code",
   "execution_count": 1,
   "metadata": {},
   "outputs": [],
   "source": [
    "# Dependencies\n",
    "import pandas as pd\n",
    "import matplotlib as plt"
   ]
  },
  {
   "cell_type": "code",
   "execution_count": 3,
   "metadata": {
    "scrolled": true
   },
   "outputs": [
    {
     "data": {
      "text/html": [
       "<div>\n",
       "<style scoped>\n",
       "    .dataframe tbody tr th:only-of-type {\n",
       "        vertical-align: middle;\n",
       "    }\n",
       "\n",
       "    .dataframe tbody tr th {\n",
       "        vertical-align: top;\n",
       "    }\n",
       "\n",
       "    .dataframe thead th {\n",
       "        text-align: right;\n",
       "    }\n",
       "</style>\n",
       "<table border=\"1\" class=\"dataframe\">\n",
       "  <thead>\n",
       "    <tr style=\"text-align: right;\">\n",
       "      <th></th>\n",
       "      <th>County</th>\n",
       "      <th>Cases</th>\n",
       "      <th>Hospitalization</th>\n",
       "      <th>Deaths</th>\n",
       "      <th>Cases/100,000Population</th>\n",
       "      <th>Deaths/100,000Population</th>\n",
       "      <th>PopulationDensity</th>\n",
       "    </tr>\n",
       "  </thead>\n",
       "  <tbody>\n",
       "    <tr>\n",
       "      <th>0</th>\n",
       "      <td>Appling</td>\n",
       "      <td>1717</td>\n",
       "      <td>142</td>\n",
       "      <td>50</td>\n",
       "      <td>9250.58</td>\n",
       "      <td>269.38</td>\n",
       "      <td>14.018288</td>\n",
       "    </tr>\n",
       "    <tr>\n",
       "      <th>1</th>\n",
       "      <td>Atkinson</td>\n",
       "      <td>745</td>\n",
       "      <td>108</td>\n",
       "      <td>15</td>\n",
       "      <td>8943.58</td>\n",
       "      <td>180.07</td>\n",
       "      <td>9.311241</td>\n",
       "    </tr>\n",
       "    <tr>\n",
       "      <th>2</th>\n",
       "      <td>Bacon</td>\n",
       "      <td>1002</td>\n",
       "      <td>73</td>\n",
       "      <td>25</td>\n",
       "      <td>8786.39</td>\n",
       "      <td>219.22</td>\n",
       "      <td>15.260078</td>\n",
       "    </tr>\n",
       "    <tr>\n",
       "      <th>3</th>\n",
       "      <td>Baker</td>\n",
       "      <td>151</td>\n",
       "      <td>31</td>\n",
       "      <td>6</td>\n",
       "      <td>4845.96</td>\n",
       "      <td>192.55</td>\n",
       "      <td>3.600683</td>\n",
       "    </tr>\n",
       "    <tr>\n",
       "      <th>4</th>\n",
       "      <td>Baldwin</td>\n",
       "      <td>3542</td>\n",
       "      <td>273</td>\n",
       "      <td>90</td>\n",
       "      <td>7972.45</td>\n",
       "      <td>202.57</td>\n",
       "      <td>67.588266</td>\n",
       "    </tr>\n",
       "    <tr>\n",
       "      <th>...</th>\n",
       "      <td>...</td>\n",
       "      <td>...</td>\n",
       "      <td>...</td>\n",
       "      <td>...</td>\n",
       "      <td>...</td>\n",
       "      <td>...</td>\n",
       "      <td>...</td>\n",
       "    </tr>\n",
       "    <tr>\n",
       "      <th>154</th>\n",
       "      <td>Whitfield</td>\n",
       "      <td>13628</td>\n",
       "      <td>660</td>\n",
       "      <td>169</td>\n",
       "      <td>13019.72</td>\n",
       "      <td>161.46</td>\n",
       "      <td>138.054912</td>\n",
       "    </tr>\n",
       "    <tr>\n",
       "      <th>155</th>\n",
       "      <td>Wilcox</td>\n",
       "      <td>434</td>\n",
       "      <td>66</td>\n",
       "      <td>26</td>\n",
       "      <td>4937.43</td>\n",
       "      <td>295.79</td>\n",
       "      <td>9.040133</td>\n",
       "    </tr>\n",
       "    <tr>\n",
       "      <th>156</th>\n",
       "      <td>Wilkes</td>\n",
       "      <td>611</td>\n",
       "      <td>61</td>\n",
       "      <td>15</td>\n",
       "      <td>6101.46</td>\n",
       "      <td>149.79</td>\n",
       "      <td>8.128280</td>\n",
       "    </tr>\n",
       "    <tr>\n",
       "      <th>157</th>\n",
       "      <td>Wilkinson</td>\n",
       "      <td>665</td>\n",
       "      <td>108</td>\n",
       "      <td>21</td>\n",
       "      <td>7455.99</td>\n",
       "      <td>235.45</td>\n",
       "      <td>7.802590</td>\n",
       "    </tr>\n",
       "    <tr>\n",
       "      <th>158</th>\n",
       "      <td>Worth</td>\n",
       "      <td>1106</td>\n",
       "      <td>155</td>\n",
       "      <td>49</td>\n",
       "      <td>5491.01</td>\n",
       "      <td>243.27</td>\n",
       "      <td>13.974341</td>\n",
       "    </tr>\n",
       "  </tbody>\n",
       "</table>\n",
       "<p>159 rows × 7 columns</p>\n",
       "</div>"
      ],
      "text/plain": [
       "        County  Cases  Hospitalization  Deaths  Cases/100,000Population  \\\n",
       "0      Appling   1717              142      50                  9250.58   \n",
       "1     Atkinson    745              108      15                  8943.58   \n",
       "2        Bacon   1002               73      25                  8786.39   \n",
       "3        Baker    151               31       6                  4845.96   \n",
       "4      Baldwin   3542              273      90                  7972.45   \n",
       "..         ...    ...              ...     ...                      ...   \n",
       "154  Whitfield  13628              660     169                 13019.72   \n",
       "155     Wilcox    434               66      26                  4937.43   \n",
       "156     Wilkes    611               61      15                  6101.46   \n",
       "157  Wilkinson    665              108      21                  7455.99   \n",
       "158      Worth   1106              155      49                  5491.01   \n",
       "\n",
       "     Deaths/100,000Population  PopulationDensity  \n",
       "0                      269.38          14.018288  \n",
       "1                      180.07           9.311241  \n",
       "2                      219.22          15.260078  \n",
       "3                      192.55           3.600683  \n",
       "4                      202.57          67.588266  \n",
       "..                        ...                ...  \n",
       "154                    161.46         138.054912  \n",
       "155                    295.79           9.040133  \n",
       "156                    149.79           8.128280  \n",
       "157                    235.45           7.802590  \n",
       "158                    243.27          13.974341  \n",
       "\n",
       "[159 rows x 7 columns]"
      ]
     },
     "execution_count": 3,
     "metadata": {},
     "output_type": "execute_result"
    }
   ],
   "source": [
    "csvpath = '../DataCleaning/Output/PopulationDensity.csv'\n",
    "final_df = pd.read_csv(csvpath)\n",
    "final_df"
   ]
  },
  {
   "cell_type": "code",
   "execution_count": 8,
   "metadata": {},
   "outputs": [
    {
     "data": {
      "text/plain": [
       "<AxesSubplot:xlabel='PopulationDensity', ylabel='Cases'>"
      ]
     },
     "execution_count": 8,
     "metadata": {},
     "output_type": "execute_result"
    },
    {
     "data": {
      "image/png": "[encoded data removed]",
      "text/plain": [
       "<Figure size 432x288 with 1 Axes>"
      ]
     },
     "metadata": {
      "needs_background": "light"
     },
     "output_type": "display_data"
    }
   ],
   "source": [
    "final_df.plot(kind='scatter', x='PopulationDensity', y='Cases')\n"
   ]
  },
  {
   "cell_type": "code",
   "execution_count": null,
   "metadata": {},
   "outputs": [],
   "source": []
  }
 ],
 "metadata": {
  "kernelspec": {
   "display_name": "Python 3",
   "language": "python",
   "name": "python3"
  },
  "language_info": {
   "codemirror_mode": {
    "name": "ipython",
    "version": 3
   },
   "file_extension": ".py",
   "mimetype": "text/x-python",
   "name": "python",
   "nbconvert_exporter": "python",
   "pygments_lexer": "ipython3",
   "version": "3.8.5"
  }
 },
 "nbformat": 4,
 "nbformat_minor": 5
}
