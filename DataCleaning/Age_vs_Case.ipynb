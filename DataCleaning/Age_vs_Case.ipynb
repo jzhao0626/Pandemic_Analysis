{
 "cells": [
  {
   "cell_type": "code",
   "execution_count": 1,
   "metadata": {},
   "outputs": [],
   "source": [
    "# Dependencies\n",
    "import pandas as pd\n",
    "import matplotlib.pyplot as plt\n",
    "import numpy as np"
   ]
  },
  {
   "cell_type": "code",
   "execution_count": 14,
   "metadata": {
    "scrolled": true
   },
   "outputs": [
    {
     "data": {
      "text/html": [
       "<div>\n",
       "<style scoped>\n",
       "    .dataframe tbody tr th:only-of-type {\n",
       "        vertical-align: middle;\n",
       "    }\n",
       "\n",
       "    .dataframe tbody tr th {\n",
       "        vertical-align: top;\n",
       "    }\n",
       "\n",
       "    .dataframe thead th {\n",
       "        text-align: right;\n",
       "    }\n",
       "</style>\n",
       "<table border=\"1\" class=\"dataframe\">\n",
       "  <thead>\n",
       "    <tr style=\"text-align: right;\">\n",
       "      <th></th>\n",
       "      <th>age group</th>\n",
       "      <th>county name</th>\n",
       "      <th>cases</th>\n",
       "      <th>deaths</th>\n",
       "      <th>hospitalization</th>\n",
       "    </tr>\n",
       "  </thead>\n",
       "  <tbody>\n",
       "    <tr>\n",
       "      <th>0</th>\n",
       "      <td>01-04 years</td>\n",
       "      <td>Georgia</td>\n",
       "      <td>9495</td>\n",
       "      <td>1</td>\n",
       "      <td>173</td>\n",
       "    </tr>\n",
       "    <tr>\n",
       "      <th>1</th>\n",
       "      <td>05-09 years</td>\n",
       "      <td>Georgia</td>\n",
       "      <td>15549</td>\n",
       "      <td>2</td>\n",
       "      <td>133</td>\n",
       "    </tr>\n",
       "    <tr>\n",
       "      <th>2</th>\n",
       "      <td>10-17 years</td>\n",
       "      <td>Georgia</td>\n",
       "      <td>54451</td>\n",
       "      <td>6</td>\n",
       "      <td>538</td>\n",
       "    </tr>\n",
       "    <tr>\n",
       "      <th>3</th>\n",
       "      <td>18-29 years</td>\n",
       "      <td>Georgia</td>\n",
       "      <td>171016</td>\n",
       "      <td>88</td>\n",
       "      <td>3157</td>\n",
       "    </tr>\n",
       "    <tr>\n",
       "      <th>4</th>\n",
       "      <td>30-39 years</td>\n",
       "      <td>Georgia</td>\n",
       "      <td>122275</td>\n",
       "      <td>198</td>\n",
       "      <td>4110</td>\n",
       "    </tr>\n",
       "    <tr>\n",
       "      <th>5</th>\n",
       "      <td>40-49 years</td>\n",
       "      <td>Georgia</td>\n",
       "      <td>118936</td>\n",
       "      <td>448</td>\n",
       "      <td>5977</td>\n",
       "    </tr>\n",
       "    <tr>\n",
       "      <th>6</th>\n",
       "      <td>50-59 years</td>\n",
       "      <td>Georgia</td>\n",
       "      <td>113066</td>\n",
       "      <td>1185</td>\n",
       "      <td>8812</td>\n",
       "    </tr>\n",
       "    <tr>\n",
       "      <th>7</th>\n",
       "      <td>60-69 years</td>\n",
       "      <td>Georgia</td>\n",
       "      <td>76754</td>\n",
       "      <td>2542</td>\n",
       "      <td>10451</td>\n",
       "    </tr>\n",
       "    <tr>\n",
       "      <th>8</th>\n",
       "      <td>70-79 years</td>\n",
       "      <td>Georgia</td>\n",
       "      <td>45333</td>\n",
       "      <td>3661</td>\n",
       "      <td>9899</td>\n",
       "    </tr>\n",
       "    <tr>\n",
       "      <th>9</th>\n",
       "      <td>80 &amp; Older years</td>\n",
       "      <td>Georgia</td>\n",
       "      <td>26605</td>\n",
       "      <td>4911</td>\n",
       "      <td>7771</td>\n",
       "    </tr>\n",
       "    <tr>\n",
       "      <th>10</th>\n",
       "      <td>&lt;1 years</td>\n",
       "      <td>Georgia</td>\n",
       "      <td>2633</td>\n",
       "      <td>0</td>\n",
       "      <td>131</td>\n",
       "    </tr>\n",
       "    <tr>\n",
       "      <th>11</th>\n",
       "      <td>Unknown years</td>\n",
       "      <td>Georgia</td>\n",
       "      <td>6964</td>\n",
       "      <td>6</td>\n",
       "      <td>95</td>\n",
       "    </tr>\n",
       "  </tbody>\n",
       "</table>\n",
       "</div>"
      ],
      "text/plain": [
       "           age group county name   cases  deaths  hospitalization\n",
       "0        01-04 years     Georgia    9495       1              173\n",
       "1        05-09 years     Georgia   15549       2              133\n",
       "2        10-17 years     Georgia   54451       6              538\n",
       "3        18-29 years     Georgia  171016      88             3157\n",
       "4        30-39 years     Georgia  122275     198             4110\n",
       "5        40-49 years     Georgia  118936     448             5977\n",
       "6        50-59 years     Georgia  113066    1185             8812\n",
       "7        60-69 years     Georgia   76754    2542            10451\n",
       "8        70-79 years     Georgia   45333    3661             9899\n",
       "9   80 & Older years     Georgia   26605    4911             7771\n",
       "10          <1 years     Georgia    2633       0              131\n",
       "11     Unknown years     Georgia    6964       6               95"
      ]
     },
     "execution_count": 14,
     "metadata": {},
     "output_type": "execute_result"
    }
   ],
   "source": [
    "csvpath1 = 'Resources/GA_cases_hosp_deaths_by_age_group2.csv'\n",
    "case_df = pd.read_csv(csvpath1)\n",
    "case_df"
   ]
  },
  {
   "cell_type": "code",
   "execution_count": 15,
   "metadata": {},
   "outputs": [],
   "source": [
    "x_axis = np.arange(len(case_df))\n",
    "tick_locations = [value for value in x_axis]\n",
    "\n",
    "#case_df.plot(kind='bar', x='age group', y='cases')\n"
   ]
  },
  {
   "cell_type": "code",
   "execution_count": 17,
   "metadata": {
    "scrolled": false
   },
   "outputs": [
    {
     "data": {
      "image/png": "[encoded data removed]",
      "text/plain": [
       "<Figure size 1440x216 with 1 Axes>"
      ]
     },
     "metadata": {
      "needs_background": "light"
     },
     "output_type": "display_data"
    }
   ],
   "source": [
    "# Create a list indicating where to write x labels and set figure size to adjust for space\n",
    "plt.figure(figsize=(20,3))\n",
    "plt.bar(x_axis, case_df[\"cases\"], color='r', alpha=0.5, align=\"center\")\n",
    "plt.xticks(tick_locations, case_df[\"age group\"], rotation=\"vertical\")\n",
    "\n",
    "plt.show()"
   ]
  },
  {
   "cell_type": "code",
   "execution_count": 19,
   "metadata": {},
   "outputs": [
    {
     "data": {
      "image/png": "[encoded data removed]",
      "text/plain": [
       "<Figure size 1440x216 with 1 Axes>"
      ]
     },
     "metadata": {
      "needs_background": "light"
     },
     "output_type": "display_data"
    }
   ],
   "source": [
    "# Create a list indicating where to write x labels and set figure size to adjust for space\n",
    "plt.figure(figsize=(20,3))\n",
    "plt.bar(x_axis, case_df[\"deaths\"], color='r', alpha=0.5, align=\"center\")\n",
    "plt.xticks(tick_locations, case_df[\"age group\"], rotation=\"vertical\")\n",
    "\n",
    "plt.show()"
   ]
  },
  {
   "cell_type": "code",
   "execution_count": 20,
   "metadata": {},
   "outputs": [
    {
     "data": {
      "image/png": "[encoded data removed]",
      "text/plain": [
       "<Figure size 1440x216 with 1 Axes>"
      ]
     },
     "metadata": {
      "needs_background": "light"
     },
     "output_type": "display_data"
    }
   ],
   "source": [
    "# Create a list indicating where to write x labels and set figure size to adjust for space\n",
    "plt.figure(figsize=(20,3))\n",
    "plt.bar(x_axis, case_df[\"hospitalization\"], color='r', alpha=0.5, align=\"center\")\n",
    "plt.xticks(tick_locations, case_df[\"age group\"], rotation=\"vertical\")\n",
    "\n",
    "plt.show()\n"
   ]
  },
  {
   "cell_type": "code",
   "execution_count": null,
   "metadata": {},
   "outputs": [],
   "source": []
  },
  {
   "cell_type": "code",
   "execution_count": null,
   "metadata": {},
   "outputs": [],
   "source": []
  }
 ],
 "metadata": {
  "kernelspec": {
   "display_name": "Python 3",
   "language": "python",
   "name": "python3"
  },
  "language_info": {
   "codemirror_mode": {
    "name": "ipython",
    "version": 3
   },
   "file_extension": ".py",
   "mimetype": "text/x-python",
   "name": "python",
   "nbconvert_exporter": "python",
   "pygments_lexer": "ipython3",
   "version": "3.8.5"
  }
 },
 "nbformat": 4,
 "nbformat_minor": 5
}
